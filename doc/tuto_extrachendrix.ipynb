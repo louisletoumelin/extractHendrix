{
 "cells": [
  {
   "cell_type": "markdown",
   "metadata": {},
   "source": [
    "# Télécharger des données sur Hendrix: description du problème"
   ]
  },
  {
   "cell_type": "markdown",
   "metadata": {},
   "source": [
    "Nous avons souvent besoin d'accéder à des donner sur Hendrix dans le cadre de nos activités de recherche"
   ]
  },
  {
   "cell_type": "markdown",
   "metadata": {},
   "source": [
    "1. Extraire des séries temporelles sur de larges domaines\n",
    "2. Extraire des données en un point\n",
    "3. Extraire un forecast entier\n",
    "\n",
    "..."
   ]
  },
  {
   "cell_type": "markdown",
   "metadata": {},
   "source": [
    "#### Ou sont stockées les données? Sous quels formats?"
   ]
  },
  {
   "cell_type": "markdown",
   "metadata": {},
   "source": [
    "De nombreuses données sont disponibles sur le serveur de stockage Hendrix. Le format des données varie: parfois (rarement) les données sont au format \".nc\" (netcdf), format bien souvent utilisé en recherche, parfois en \".grib\", parfois en format \".fa\" qui est un format maison à Météo-France."
   ]
  },
  {
   "cell_type": "markdown",
   "metadata": {},
   "source": [
    "#### Comment peut-on accéder à ces resources?"
   ]
  },
  {
   "cell_type": "markdown",
   "metadata": {},
   "source": [
    "Des outils existent en python pour accéder à ces ressources:\n",
    "    \n",
    "    1. Vortex: pour accéder/télécharger aux resources sur Hendrix\n",
    "    vortex.meteo.fr\n",
    "    \n",
    "    \n",
    "    2. Epygram: pour ouvrir les fichiers, les traiter...etc\n",
    "    https://opensource.umr-cnrm.fr/projects/epygram\n",
    "    "
   ]
  },
  {
   "cell_type": "markdown",
   "metadata": {},
   "source": [
    "**Donc on a une bibliothèque pour télécharger les fichiers et une bibliothèque pour les ouvrir et les traiter, on est bon non?**"
   ]
  },
  {
   "cell_type": "markdown",
   "metadata": {},
   "source": [
    "En théorie oui, en pratique non. Voici les obstacles qui s'érigent sur notre route, lorsque par exemple, on cherche à télécharger les données d'AROME:"
   ]
  },
  {
   "cell_type": "markdown",
   "metadata": {},
   "source": [
    "1. Généralement, on ne télécharge pas tout le domaine d'un modèle mais seulement une **zone géographique restreinte**: il faut utiliser une commande Epygram pour se placer sur son domaine. Il fut donc connaitre soit le nom du domaine, soit les indices dans le modèle qui délimitent ce domaine.\n",
    "\n",
    "\n",
    "2. Si on travaille sur des forecast, nous avons **plusieurs manières de reconstruire des séries temporelles**: différentes dates d'analyses, différentes échances de forecast... Il faut faire des choix et les coder.\n",
    "\n",
    "\n",
    "3. Pour accéder à une ressource sur Hendrix, il faut remplir la **\"resource_description\" de Vortex**. Il faut donc soit la connaitre, soit la deviner (plutôt long), soit la trouver quelque part.\n",
    "\n",
    "\n",
    "4. Les variables ne sont pas forcément exprimées au format souhaité: certaines variables météo sont **spectrales**, il faut les convertir, d'autres comme les précip sont **cummulées** (cad qu'à chaque échéance, les précips correspondent à une somme de précip depuis la date d'analyse). Il faut donc prendre en compte toutes ces spécificités et les traiter."
   ]
  },
  {
   "cell_type": "markdown",
   "metadata": {},
   "source": [
    "On comprend donc qu'il n'y a pas de bouton magique sur Vortex ou Epygram qui télécharge ce que l'on veut. Il faut écrire un script."
   ]
  },
  {
   "cell_type": "markdown",
   "metadata": {},
   "source": [
    "#### Une fois que l'on a maitrise ces étapes, d'autres problèmes peuvent apparaitre"
   ]
  },
  {
   "cell_type": "markdown",
   "metadata": {},
   "source": [
    "1. La \"resource_description\" de Vortex change (pour une même resource) dans le temps. Par exemple pour AROME, en Juillet 2017, la clef \"namespace\" de la \"resource_description\" a changé (oper.archive.fr => vortex.archive.fr).\n",
    "\n",
    "\n",
    "2. Le nom des variables changent au cours du temps. Par exemple dans AROME, la composante zonale du vecteur rafale de vent change: 'CLSU.RAF60M.XFU' & 'CLSU.RAF.MOD.XFU'.\n",
    "\n",
    "\n",
    "3. Les variables de surface d'un modèle ne sont pas stockées dans le même fichier que les variables atmosphériques: pour un même run il faut trouver la bonne variable dans le bon fichier."
   ]
  },
  {
   "cell_type": "markdown",
   "metadata": {},
   "source": [
    "#### Les extractions sont longues et Hendrix peut planter"
   ]
  },
  {
   "cell_type": "markdown",
   "metadata": {},
   "source": [
    "Les extractions sont longues, et le serveur plante régulièrement. \n",
    "\n",
    "Par exemple, au début de l'année scolaire 2021, extraire une année d'AROME m'a pris plus d'un mois. En effet Hendrix a planté plusieurs fois, sxcen (où je stockais mes variables) a également planté (problème de stockage), et il fallait que j'aille tous les jours suivre l'extraction des variables: c'est une tâche fastidieuse."
   ]
  },
  {
   "cell_type": "markdown",
   "metadata": {},
   "source": [
    "# Quelles solutions nous proposons?"
   ]
  },
  {
   "cell_type": "markdown",
   "metadata": {},
   "source": [
    "Avec Hugo, nous avons décidé de prendre le script qu'utilisait Isabelle (historiquement Vincent Vionnet, Louis Quéno puis Isabelle), et de l'adapter de manière générique afin de faciliter la gestion des extractions. \n",
    "\n",
    "Nous souhaitions un script:\n",
    "\n",
    "\n",
    "1. dans lequel il est aisé de rajouter une variable à extraire\n",
    "\n",
    "\n",
    "2. qui énumère clairement les \"resources_description\" de Vortex pour un modèle donné\n",
    "\n",
    "\n",
    "3. qui gère les plantages d'Hendrix\n",
    "\n",
    "\n",
    "4. qui nous préviens lorsqu'un problème est rencontré, ou au contraire lorsque tout va bien\n",
    "\n",
    "\n",
    "5. qui facilite le prestagging\n",
    "\n",
    "\n",
    "6. qui nous indique si des variables que nous téléchargons sont déjà disponible ou non au CEN\n",
    "\n",
    "\n",
    "7. dans lequel nous pouvons facilement nous insérer pour coder les spécificités de notre projet"
   ]
  },
  {
   "cell_type": "markdown",
   "metadata": {},
   "source": [
    "# Installation"
   ]
  },
  {
   "cell_type": "markdown",
   "metadata": {},
   "source": [
    "### Installation d'extracthendrix"
   ]
  },
  {
   "cell_type": "markdown",
   "metadata": {},
   "source": [
    "#### Télécharger le repo git"
   ]
  },
  {
   "cell_type": "markdown",
   "metadata": {},
   "source": [
    "> git clone https://git.meteo.fr/cnrm-cen/louisletoumelin/extracthendrix"
   ]
  },
  {
   "cell_type": "markdown",
   "metadata": {},
   "source": [
    "#### pip install"
   ]
  },
  {
   "cell_type": "markdown",
   "metadata": {},
   "source": [
    "Pour les utilisateurs qui vont modifier le code d'extraction:\n",
    "\n",
    "\n",
    "> pip install -e --user extracthendrix\n",
    "\n",
    "\n",
    "Pour les simples utilisateurs\n",
    "\n",
    "> pip install --user extracthendrix"
   ]
  },
  {
   "cell_type": "markdown",
   "metadata": {},
   "source": [
    "### Installation de Vortex sur sxcen"
   ]
  },
  {
   "cell_type": "markdown",
   "metadata": {},
   "source": [
    "Pour installer la version 1.8.0 de Vortex (par exemple), on se rend dans le fichier .bash_profile dans son home et on ajoute les lignes suivantes:"
   ]
  },
  {
   "cell_type": "raw",
   "metadata": {},
   "source": [
    "export PYTHONSTARTUP=$HOME/.vortexrc.py\n",
    "\n",
    "VORTEX=/home/common/sync/vortex/vortex-1.8.0\n",
    "\n",
    "PYTHONPATH=$HOME/exec/python/utils:$VORTEX:$VORTEX/src:$VORTEX/site:$PYTHONPATH\n",
    "\n",
    "export PYTHONPATH"
   ]
  },
  {
   "cell_type": "markdown",
   "metadata": {},
   "source": [
    "### Installation d'Epygram sur sxcen"
   ]
  },
  {
   "cell_type": "raw",
   "metadata": {},
   "source": [
    "VERSION='-stable'\n",
    "EPYGRAM_INSTALL_DIR=/home/common/epygram/EPyGrAM$VERSION\n",
    "GRIBAPI_OK_CY42=/home/common/epygram/ext/grib_api-1.14.0_mf1.1_py/lib64/python2.7/site-packages/grib_api\n",
    "PYTHONPATH=$GRIBAPI_OK_CY42:$PYTHONPATH\n",
    "PYTHONPATH=$EPYGRAM_INSTALL_DIR:$EPYGRAM_INSTALL_DIR/site:$PYTHONPATH\n",
    "export PYTHONPATH=/home/common/epygram/ext/eccodes/lib64/python2.7/site-packages:$PYTHONPATH\n",
    "export PATH=$PATH:$EPYGRAM_INSTALL_DIR/apptools"
   ]
  },
  {
   "cell_type": "markdown",
   "metadata": {},
   "source": [
    "# Utilisation"
   ]
  },
  {
   "cell_type": "code",
   "execution_count": null,
   "metadata": {},
   "outputs": [],
   "source": [
    "import extracthendrix as eh\n",
    "from datetime import datetime"
   ]
  },
  {
   "cell_type": "markdown",
   "metadata": {},
   "source": [
    "#### Je ne connais rien sur Hendrix, sur AROME: où est la doc?"
   ]
  },
  {
   "cell_type": "code",
   "execution_count": null,
   "metadata": {
    "scrolled": true
   },
   "outputs": [],
   "source": [
    "eh.print_documentation()"
   ]
  },
  {
   "cell_type": "markdown",
   "metadata": {},
   "source": [
    "#### Extraction de séries temporelle d'AROME"
   ]
  },
  {
   "cell_type": "code",
   "execution_count": null,
   "metadata": {},
   "outputs": [],
   "source": [
    "import extracthendrix as eh\n",
    "from datetime import datetime\n",
    "\n",
    "config_user = dict(\n",
    "\n",
    "#  Where you want to store the outputs\n",
    "folder= '/cnrm/cen/users/NO_SAVE/letoumelinl/folder3/',\n",
    "\n",
    "# Models are defined in the models.ini file\n",
    "model_name = 'AROME',\n",
    "\n",
    "# The domain can be defined by its name or its coordinates\n",
    "# Existing domain can be found in the config_fa2nc.py file\n",
    "domain = \"alp\",\n",
    "\n",
    "# Variables to extract and to store in the netcdf file\n",
    "# Variable are defined in the config_fa2nc.py file\n",
    "variables_nc = ['snow_density', 'LWdown' ,'PSurf', 'Qair', 'Rainf', 'SCA_down', 'Snowf', 'Tair', 'Wind', 'Wind_DIR', 'Wind_Gust'],\n",
    "\n",
    "# \"local\" if the FA file are on your computer or \"hendrix\" otherwise\n",
    "getter = \"hendrix\",\n",
    "\n",
    "# \"timeseries\" or \"forecast\".\n",
    "# Ex: \"forecast\" = 1 analysis at 06:00 + 30 terms ahead\n",
    "mode = \"timeseries\",\n",
    "\n",
    "# For prestaging and sending mail during (your mail = destination) extraction\n",
    "email_address = \"louis.letoumelin@meteo.fr\",\n",
    "\n",
    "# datetime(year, month, day)\n",
    "date_start = datetime(2020, 6, 1),\n",
    "date_end = datetime(2020, 6, 30),\n",
    "\n",
    "# Analysis hour\n",
    "analysis_hour = 0,\n",
    "\n",
    "# Delta between terms\n",
    "delta_terms = 1,\n",
    "\n",
    "# Term in hour after analysis\n",
    "start_term = 6, # Default: 6\n",
    "end_term = 6 + 23 ,# Defautl: 6+23 = 29\n",
    "\n",
    "# How to group the netcdf files: \"month\", \"year\", \"all\"\n",
    "group_by_output_file = \"month\"\n",
    ")"
   ]
  },
  {
   "cell_type": "code",
   "execution_count": null,
   "metadata": {},
   "outputs": [],
   "source": [
    "e = eh.Extractor(config_user)"
   ]
  },
  {
   "cell_type": "code",
   "execution_count": null,
   "metadata": {
    "scrolled": false
   },
   "outputs": [],
   "source": [
    "e.download()"
   ]
  },
  {
   "cell_type": "markdown",
   "metadata": {},
   "source": [
    "#### Extraction de forecast d'AROME (ex: 1 anlyse + 30 termes)"
   ]
  },
  {
   "cell_type": "code",
   "execution_count": null,
   "metadata": {},
   "outputs": [],
   "source": [
    "import extracthendrix as eh\n",
    "from datetime import datetime\n",
    "\n",
    "config_user = dict(\n",
    "\n",
    "#  Where you want to store the outputs\n",
    "folder= '/cnrm/cen/users/NO_SAVE/letoumelinl/folder3/',\n",
    "\n",
    "# Models are defined in the models.ini file\n",
    "model_name = 'AROME',\n",
    "\n",
    "# The domain can be defined by its name or its coordinates\n",
    "# Existing domain can be found in the config_fa2nc.py file\n",
    "domain = \"alp\",\n",
    "\n",
    "# Variables to extract and to store in the netcdf file\n",
    "# Variable are defined in the config_fa2nc.py file\n",
    "variables_nc = ['snow_density', 'LWdown' ,'PSurf', 'Qair', 'Rainf', 'SCA_down', 'Snowf', 'Tair', 'Wind', 'Wind_DIR', 'Wind_Gust'],\n",
    "\n",
    "# \"local\" if the FA file are on your computer or \"hendrix\" otherwise\n",
    "getter = \"hendrix\",\n",
    "\n",
    "# \"timeseries\" or \"forecast\".\n",
    "# Ex: \"forecast\" = 1 analysis at 06:00 + 30 terms ahead\n",
    "mode = \"forecast\",\n",
    "\n",
    "# For prestaging and sending mail during (your mail = destination) extraction\n",
    "email_address = \"louis.letoumelin@meteo.fr\",\n",
    "\n",
    "# datetime(year, month, day)\n",
    "date_start = datetime(2020, 6, 1),\n",
    "date_end = datetime(2020, 6, 30),\n",
    "\n",
    "# Analysis hour\n",
    "analysis_hour = 0,\n",
    "\n",
    "# Delta between terms\n",
    "delta_terms = 1,\n",
    "\n",
    "# Term in hour after analysis\n",
    "start_term = 6, # Default: 6\n",
    "end_term = 6 + 23 ,# Defautl: 6+23 = 29\n",
    "\n",
    "# How to group the netcdf files: \"month\", \"year\", \"all\"\n",
    "group_by_output_file = \"month\"\n",
    ")"
   ]
  },
  {
   "cell_type": "markdown",
   "metadata": {},
   "source": [
    "#### Utilisation du prestagging"
   ]
  },
  {
   "cell_type": "markdown",
   "metadata": {},
   "source": [
    " <img src=\"http://confluence.meteo.fr/download/attachments/299881305/PutGetStage.jpg?version=1&modificationDate=1624261605335&api=v2\" />"
   ]
  },
  {
   "cell_type": "code",
   "execution_count": null,
   "metadata": {
    "scrolled": false
   },
   "outputs": [],
   "source": [
    "e.prepare_prestaging_demand()"
   ]
  },
  {
   "cell_type": "markdown",
   "metadata": {},
   "source": [
    "#### Gestion des plantages d'Hendrix"
   ]
  },
  {
   "cell_type": "markdown",
   "metadata": {},
   "source": [
    "Si le code plante au moment d'accéder à Hendrix alors Hendrix bug probablement. \n",
    "\n",
    "Pour gérer ce problème, plutot que de soulever une erreur, nous avons décider de demander au système d'attendre qu'Hendrix reprenne ses forces pour continuer l'extraction: un petit plantage d'Hendrix ne changera donc rien à notre extraction."
   ]
  },
  {
   "cell_type": "code",
   "execution_count": null,
   "metadata": {},
   "outputs": [],
   "source": []
  },
  {
   "cell_type": "code",
   "execution_count": null,
   "metadata": {},
   "outputs": [],
   "source": []
  },
  {
   "cell_type": "code",
   "execution_count": null,
   "metadata": {},
   "outputs": [],
   "source": []
  },
  {
   "cell_type": "code",
   "execution_count": null,
   "metadata": {},
   "outputs": [],
   "source": []
  },
  {
   "cell_type": "code",
   "execution_count": null,
   "metadata": {},
   "outputs": [],
   "source": []
  },
  {
   "cell_type": "code",
   "execution_count": null,
   "metadata": {},
   "outputs": [],
   "source": []
  },
  {
   "cell_type": "code",
   "execution_count": null,
   "metadata": {},
   "outputs": [],
   "source": []
  }
 ],
 "metadata": {
  "kernelspec": {
   "display_name": "Python 3",
   "language": "python",
   "name": "python3"
  },
  "language_info": {
   "codemirror_mode": {
    "name": "ipython",
    "version": 3
   },
   "file_extension": ".py",
   "mimetype": "text/x-python",
   "name": "python",
   "nbconvert_exporter": "python",
   "pygments_lexer": "ipython3",
   "version": "3.8.10"
  }
 },
 "nbformat": 4,
 "nbformat_minor": 4
}
